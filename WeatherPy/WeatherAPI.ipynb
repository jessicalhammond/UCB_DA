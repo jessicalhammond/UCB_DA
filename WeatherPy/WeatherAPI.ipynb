{
 "cells": [
  {
   "cell_type": "code",
   "execution_count": 45,
   "metadata": {},
   "outputs": [],
   "source": [
    "# Dependencies\n",
    "import json\n",
    "import requests\n",
    "import pandas as pd\n",
    "from config import api_key\n",
    "import random \n",
    "import matplotlib.pyplot as plt\n",
    "from citipy import citipy\n",
    "import urllib"
   ]
  },
  {
   "cell_type": "code",
   "execution_count": 46,
   "metadata": {},
   "outputs": [
    {
     "data": {
      "text/html": [
       "<div>\n",
       "<style scoped>\n",
       "    .dataframe tbody tr th:only-of-type {\n",
       "        vertical-align: middle;\n",
       "    }\n",
       "\n",
       "    .dataframe tbody tr th {\n",
       "        vertical-align: top;\n",
       "    }\n",
       "\n",
       "    .dataframe thead th {\n",
       "        text-align: right;\n",
       "    }\n",
       "</style>\n",
       "<table border=\"1\" class=\"dataframe\">\n",
       "  <thead>\n",
       "    <tr style=\"text-align: right;\">\n",
       "      <th></th>\n",
       "      <th>Country</th>\n",
       "      <th>City</th>\n",
       "      <th>Latitude</th>\n",
       "      <th>Longitude</th>\n",
       "    </tr>\n",
       "  </thead>\n",
       "  <tbody>\n",
       "    <tr>\n",
       "      <th>0</th>\n",
       "      <td>ad</td>\n",
       "      <td>andorra la vella</td>\n",
       "      <td>42.500000</td>\n",
       "      <td>1.516667</td>\n",
       "    </tr>\n",
       "    <tr>\n",
       "      <th>1</th>\n",
       "      <td>ad</td>\n",
       "      <td>canillo</td>\n",
       "      <td>42.566667</td>\n",
       "      <td>1.600000</td>\n",
       "    </tr>\n",
       "    <tr>\n",
       "      <th>2</th>\n",
       "      <td>ad</td>\n",
       "      <td>encamp</td>\n",
       "      <td>42.533333</td>\n",
       "      <td>1.583333</td>\n",
       "    </tr>\n",
       "    <tr>\n",
       "      <th>3</th>\n",
       "      <td>ad</td>\n",
       "      <td>la massana</td>\n",
       "      <td>42.550000</td>\n",
       "      <td>1.516667</td>\n",
       "    </tr>\n",
       "    <tr>\n",
       "      <th>4</th>\n",
       "      <td>ad</td>\n",
       "      <td>les escaldes</td>\n",
       "      <td>42.500000</td>\n",
       "      <td>1.533333</td>\n",
       "    </tr>\n",
       "  </tbody>\n",
       "</table>\n",
       "</div>"
      ],
      "text/plain": [
       "  Country              City   Latitude  Longitude\n",
       "0      ad  andorra la vella  42.500000   1.516667\n",
       "1      ad           canillo  42.566667   1.600000\n",
       "2      ad            encamp  42.533333   1.583333\n",
       "3      ad        la massana  42.550000   1.516667\n",
       "4      ad      les escaldes  42.500000   1.533333"
      ]
     },
     "execution_count": 46,
     "metadata": {},
     "output_type": "execute_result"
    }
   ],
   "source": [
    "cities_csv = \"worldcities.csv\"\n",
    "cities_df = pd.read_csv(cities_csv)\n",
    "# cities_df = pd.cities_df1['Latitude']['Longitude']\n",
    "cities_df.head()"
   ]
  },
  {
   "cell_type": "code",
   "execution_count": 47,
   "metadata": {},
   "outputs": [],
   "source": [
    "url = \"http://api.openweathermap.org/data/2.5/weather?\"\n",
    "units = \"metric\"\n",
    "\n",
    "city_list =[]\n",
    "lat_random = []\n",
    "lon_random = []\n",
    "query_url = []\n",
    "for i in range(1000):\n",
    "    lat_random.append(random.choice(cities_df['Latitude']))\n",
    "    lon_random.append(random.choice(cities_df['Longitude']))\n",
    "    citiname = citipy.nearest_city(float(lat_random[i]), float(lon_random[i])).city_name\n",
    "    if citiname not in city_list:\n",
    "        city_list.append(citiname)\n"
   ]
  },
  {
   "cell_type": "code",
   "execution_count": 48,
   "metadata": {},
   "outputs": [
    {
     "data": {
      "text/plain": [
       "797"
      ]
     },
     "execution_count": 48,
     "metadata": {},
     "output_type": "execute_result"
    }
   ],
   "source": [
    "len(city_list)\n",
    "# print(name)\n",
    "# print(query_url)"
   ]
  },
  {
   "cell_type": "code",
   "execution_count": 49,
   "metadata": {},
   "outputs": [
    {
     "name": "stdout",
     "output_type": "stream",
     "text": [
      "umm durman Not found\n",
      "guajara-mirim Not found\n",
      "kolimvari Not found\n",
      "meyungs Not found\n",
      "mirina Not found\n",
      "sredec Not found\n",
      "kalavrita Not found\n",
      "dolbeau Not found\n",
      "zlatoustovsk Not found\n",
      "churumuco Not found\n",
      "shcholkine Not found\n",
      "karkaralinsk Not found\n",
      "raga Not found\n",
      "cienaga de flores Not found\n",
      "attawapiskat Not found\n",
      "duz Not found\n",
      "longlac Not found\n",
      "gangotri Not found\n",
      "chagda Not found\n",
      "kleck Not found\n",
      "bengkulu Not found\n",
      "garbau Not found\n",
      "jomalig Not found\n",
      "skovde Not found\n",
      "juifang Not found\n",
      "wulanhaote Not found\n",
      "bardiyah Not found\n",
      "sorvag Not found\n",
      "riyaq Not found\n",
      "sukhumi Not found\n",
      "bousso Not found\n",
      "atsiki Not found\n",
      "lushunkou Not found\n",
      "ozgon Not found\n",
      "tukrah Not found\n",
      "tsihombe Not found\n",
      "malatya Not found\n",
      "ksenyevka Not found\n",
      "tubruq Not found\n",
      "asayita Not found\n",
      "vaitupu Not found\n",
      "sentyabrskiy Not found\n",
      "vestbygda Not found\n",
      "warqla Not found\n",
      "kuche Not found\n",
      "grand river south east Not found\n",
      "straldza Not found\n",
      "sikea Not found\n",
      "tikheron Not found\n",
      "marcona Not found\n",
      "irbil Not found\n",
      "kimi Not found\n",
      "gurskoye Not found\n",
      "haibowan Not found\n",
      "asfi Not found\n",
      "zachagansk Not found\n",
      "sakakah Not found\n",
      "toliary Not found\n",
      "burica Not found\n",
      "ayios matthaios Not found\n",
      "lyubeshiv Not found\n",
      "babanusah Not found\n",
      "pagondas Not found\n",
      "naftah Not found\n",
      "korla Not found\n",
      "ngama Not found\n",
      "unye Not found\n",
      "gulshat Not found\n",
      "ndele Not found\n",
      "malakal Not found\n",
      "perustica Not found\n",
      "manzil tamim Not found\n"
     ]
    }
   ],
   "source": [
    "temp = []\n",
    "humidity = []\n",
    "cloud = []\n",
    "wind = []\n",
    "lat = []\n",
    "lon = []\n",
    "country = []\n",
    "date = []\n",
    "maxtemp = []\n",
    "city_name =[]\n",
    "\n",
    "for i, city in enumerate(city_list):\n",
    "    query_url = url +\"&appid=\" + api_key + \"&q=\" + urllib.request.pathname2url(city)\n",
    "#     print(query_url)\n",
    "    try:\n",
    "        response = requests.get(query_url).json()\n",
    "        city_name.append(response['name'])\n",
    "        temp.append(response['main']['temp'])\n",
    "        humidity.append(response['main']['humidity'])\n",
    "        cloud.append(response['clouds']['all'])\n",
    "        lat.append(response['coord']['lat'])\n",
    "        lon.append(response['coord']['lon'])\n",
    "        wind.append(response['wind']['speed'])\n",
    "        country.append(response['sys']['country'])\n",
    "        date.append(response['dt'])\n",
    "        maxtemp.append(response['main']['temp_max'])\n",
    "    except:\n",
    "        print(f\"{city} Not found\")\n",
    "        pass\n"
   ]
  },
  {
   "cell_type": "code",
   "execution_count": 50,
   "metadata": {},
   "outputs": [
    {
     "data": {
      "text/plain": [
       "725"
      ]
     },
     "execution_count": 50,
     "metadata": {},
     "output_type": "execute_result"
    }
   ],
   "source": [
    "len(maxtemp)\n"
   ]
  },
  {
   "cell_type": "code",
   "execution_count": 51,
   "metadata": {},
   "outputs": [
    {
     "data": {
      "text/html": [
       "<div>\n",
       "<style scoped>\n",
       "    .dataframe tbody tr th:only-of-type {\n",
       "        vertical-align: middle;\n",
       "    }\n",
       "\n",
       "    .dataframe tbody tr th {\n",
       "        vertical-align: top;\n",
       "    }\n",
       "\n",
       "    .dataframe thead th {\n",
       "        text-align: right;\n",
       "    }\n",
       "</style>\n",
       "<table border=\"1\" class=\"dataframe\">\n",
       "  <thead>\n",
       "    <tr style=\"text-align: right;\">\n",
       "      <th></th>\n",
       "      <th>cities</th>\n",
       "      <th>cloud</th>\n",
       "      <th>country</th>\n",
       "      <th>humidity</th>\n",
       "      <th>lat</th>\n",
       "      <th>long</th>\n",
       "      <th>max temp</th>\n",
       "      <th>temp</th>\n",
       "      <th>wind</th>\n",
       "    </tr>\n",
       "  </thead>\n",
       "  <tbody>\n",
       "    <tr>\n",
       "      <th>0</th>\n",
       "      <td>Ishigaki</td>\n",
       "      <td>92</td>\n",
       "      <td>JP</td>\n",
       "      <td>100</td>\n",
       "      <td>24.34</td>\n",
       "      <td>124.16</td>\n",
       "      <td>295.055</td>\n",
       "      <td>295.055</td>\n",
       "      <td>4.10</td>\n",
       "    </tr>\n",
       "    <tr>\n",
       "      <th>1</th>\n",
       "      <td>Biasca</td>\n",
       "      <td>0</td>\n",
       "      <td>CH</td>\n",
       "      <td>31</td>\n",
       "      <td>46.36</td>\n",
       "      <td>8.97</td>\n",
       "      <td>283.150</td>\n",
       "      <td>283.150</td>\n",
       "      <td>1.00</td>\n",
       "    </tr>\n",
       "    <tr>\n",
       "      <th>2</th>\n",
       "      <td>Kontagora</td>\n",
       "      <td>0</td>\n",
       "      <td>NG</td>\n",
       "      <td>31</td>\n",
       "      <td>10.40</td>\n",
       "      <td>5.47</td>\n",
       "      <td>300.855</td>\n",
       "      <td>300.855</td>\n",
       "      <td>3.10</td>\n",
       "    </tr>\n",
       "    <tr>\n",
       "      <th>3</th>\n",
       "      <td>Urucui</td>\n",
       "      <td>56</td>\n",
       "      <td>BR</td>\n",
       "      <td>70</td>\n",
       "      <td>-7.23</td>\n",
       "      <td>-44.56</td>\n",
       "      <td>301.205</td>\n",
       "      <td>301.205</td>\n",
       "      <td>2.55</td>\n",
       "    </tr>\n",
       "    <tr>\n",
       "      <th>4</th>\n",
       "      <td>Muros</td>\n",
       "      <td>0</td>\n",
       "      <td>ES</td>\n",
       "      <td>62</td>\n",
       "      <td>42.77</td>\n",
       "      <td>-9.06</td>\n",
       "      <td>286.150</td>\n",
       "      <td>286.150</td>\n",
       "      <td>6.20</td>\n",
       "    </tr>\n",
       "    <tr>\n",
       "      <th>5</th>\n",
       "      <td>Horn Lake</td>\n",
       "      <td>75</td>\n",
       "      <td>US</td>\n",
       "      <td>72</td>\n",
       "      <td>34.96</td>\n",
       "      <td>-90.03</td>\n",
       "      <td>292.150</td>\n",
       "      <td>290.550</td>\n",
       "      <td>5.10</td>\n",
       "    </tr>\n",
       "    <tr>\n",
       "      <th>6</th>\n",
       "      <td>Lithakia</td>\n",
       "      <td>40</td>\n",
       "      <td>GR</td>\n",
       "      <td>58</td>\n",
       "      <td>37.72</td>\n",
       "      <td>20.83</td>\n",
       "      <td>287.150</td>\n",
       "      <td>287.150</td>\n",
       "      <td>3.10</td>\n",
       "    </tr>\n",
       "    <tr>\n",
       "      <th>7</th>\n",
       "      <td>Padang</td>\n",
       "      <td>44</td>\n",
       "      <td>ID</td>\n",
       "      <td>100</td>\n",
       "      <td>-0.92</td>\n",
       "      <td>100.36</td>\n",
       "      <td>300.255</td>\n",
       "      <td>300.255</td>\n",
       "      <td>3.15</td>\n",
       "    </tr>\n",
       "    <tr>\n",
       "      <th>8</th>\n",
       "      <td>Faya</td>\n",
       "      <td>5</td>\n",
       "      <td>SA</td>\n",
       "      <td>37</td>\n",
       "      <td>18.39</td>\n",
       "      <td>42.45</td>\n",
       "      <td>292.150</td>\n",
       "      <td>292.150</td>\n",
       "      <td>4.60</td>\n",
       "    </tr>\n",
       "    <tr>\n",
       "      <th>9</th>\n",
       "      <td>Henties Bay</td>\n",
       "      <td>0</td>\n",
       "      <td>NA</td>\n",
       "      <td>96</td>\n",
       "      <td>-22.12</td>\n",
       "      <td>14.28</td>\n",
       "      <td>291.380</td>\n",
       "      <td>291.380</td>\n",
       "      <td>2.05</td>\n",
       "    </tr>\n",
       "  </tbody>\n",
       "</table>\n",
       "</div>"
      ],
      "text/plain": [
       "        cities  cloud country  humidity    lat    long  max temp     temp  \\\n",
       "0     Ishigaki     92      JP       100  24.34  124.16   295.055  295.055   \n",
       "1       Biasca      0      CH        31  46.36    8.97   283.150  283.150   \n",
       "2    Kontagora      0      NG        31  10.40    5.47   300.855  300.855   \n",
       "3       Urucui     56      BR        70  -7.23  -44.56   301.205  301.205   \n",
       "4        Muros      0      ES        62  42.77   -9.06   286.150  286.150   \n",
       "5    Horn Lake     75      US        72  34.96  -90.03   292.150  290.550   \n",
       "6     Lithakia     40      GR        58  37.72   20.83   287.150  287.150   \n",
       "7       Padang     44      ID       100  -0.92  100.36   300.255  300.255   \n",
       "8         Faya      5      SA        37  18.39   42.45   292.150  292.150   \n",
       "9  Henties Bay      0      NA        96 -22.12   14.28   291.380  291.380   \n",
       "\n",
       "   wind  \n",
       "0  4.10  \n",
       "1  1.00  \n",
       "2  3.10  \n",
       "3  2.55  \n",
       "4  6.20  \n",
       "5  5.10  \n",
       "6  3.10  \n",
       "7  3.15  \n",
       "8  4.60  \n",
       "9  2.05  "
      ]
     },
     "execution_count": 51,
     "metadata": {},
     "output_type": "execute_result"
    }
   ],
   "source": [
    "dictionary = {\n",
    "    'cities': city_name,\n",
    "    'country':country,\n",
    "    'temp': temp,\n",
    "    'humidity': humidity,\n",
    "    'cloud': cloud,\n",
    "    'wind': wind,    \n",
    "    'max temp': maxtemp,\n",
    "    'lat': lat,\n",
    "    'long': lon\n",
    "}\n",
    "\n",
    "weather_data = pd.DataFrame(dictionary)\n",
    "weather_data.head(10)"
   ]
  },
  {
   "cell_type": "code",
   "execution_count": 52,
   "metadata": {},
   "outputs": [
    {
     "data": {
      "image/png": "[encoded data removed]",
      "text/plain": [
       "<matplotlib.figure.Figure at 0x1143b55c0>"
      ]
     },
     "metadata": {},
     "output_type": "display_data"
    }
   ],
   "source": [
    "# Create a scatter plot for each data type\n",
    "plt.scatter(weather_data[\"lat\"],weather_data[\"max temp\"], marker=\"o\")\n",
    "\n",
    "# Incorporate the other graph properties: title and axis labels\n",
    "plt.title(\"Max Temperature by Latitude Around the World\")\n",
    "plt.ylabel(\"Max Temperature\")\n",
    "plt.xlabel(\"Latitude\")\n",
    "\n",
    "# Turn on the grid\n",
    "plt.grid(True)\n",
    "\n",
    "# Save the figure\n",
    "\n",
    "\n",
    "# Display to screen "
   ]
  },
  {
   "cell_type": "code",
   "execution_count": 53,
   "metadata": {},
   "outputs": [
    {
     "data": {
      "image/png": "[encoded data removed]",
      "text/plain": [
       "<matplotlib.figure.Figure at 0x10f59b908>"
      ]
     },
     "metadata": {},
     "output_type": "display_data"
    }
   ],
   "source": [
    "# Create a scatter plot for each data type\n",
    "plt.scatter(weather_data[\"lat\"], weather_data[\"humidity\"], marker=\"o\")\n",
    "\n",
    "# Incorporate the other graph properties: title and axis labels\n",
    "plt.title(\"Humidity by Latitude Around the World\")\n",
    "plt.ylabel(\"Humidity\")\n",
    "plt.xlabel(\"Latitude\")\n",
    "\n",
    "# Turn on the grid\n",
    "plt.grid(True)\n",
    "\n",
    "# Save the figure\n",
    "\n",
    "\n",
    "# Display to screen \n"
   ]
  },
  {
   "cell_type": "code",
   "execution_count": 54,
   "metadata": {},
   "outputs": [
    {
     "data": {
      "image/png": "[encoded data removed]",
      "text/plain": [
       "<matplotlib.figure.Figure at 0x114284780>"
      ]
     },
     "metadata": {},
     "output_type": "display_data"
    }
   ],
   "source": [
    "# Create a scatter plot for each data type\n",
    "plt.scatter(weather_data[\"lat\"], weather_data[\"cloud\"], marker=\"o\")\n",
    "\n",
    "# Incorporate the other graph properties: title and axis labels\n",
    "plt.title(\"Cloudiness by Latitude Around the World\")\n",
    "plt.ylabel(\"Cloudiness\")\n",
    "plt.xlabel(\"Latitude\")\n",
    "\n",
    "# Turn on the grid\n",
    "plt.grid(True)\n",
    "\n",
    "# Save the figure\n",
    "\n",
    "\n",
    "# Display to screen "
   ]
  },
  {
   "cell_type": "code",
   "execution_count": 59,
   "metadata": {},
   "outputs": [
    {
     "ename": "TypeError",
     "evalue": "Object does not appear to be a 8-bit string path or a Python file-like object",
     "output_type": "error",
     "traceback": [
      "\u001b[0;31m---------------------------------------------------------------------------\u001b[0m",
      "\u001b[0;31mTypeError\u001b[0m                                 Traceback (most recent call last)",
      "\u001b[0;32m<ipython-input-59-8b391d1351e2>\u001b[0m in \u001b[0;36m<module>\u001b[0;34m()\u001b[0m\n\u001b[1;32m     11\u001b[0m \u001b[0;34m\u001b[0m\u001b[0m\n\u001b[1;32m     12\u001b[0m \u001b[0;31m# Save the figure\u001b[0m\u001b[0;34m\u001b[0m\u001b[0;34m\u001b[0m\u001b[0m\n\u001b[0;32m---> 13\u001b[0;31m \u001b[0mplt\u001b[0m\u001b[0;34m.\u001b[0m\u001b[0msavefig\u001b[0m\u001b[0;34m(\u001b[0m\u001b[0mwind_lat\u001b[0m\u001b[0;34m,\u001b[0m \u001b[0mformat\u001b[0m\u001b[0;34m=\u001b[0m\u001b[0;34m\"png\"\u001b[0m\u001b[0;34m)\u001b[0m\u001b[0;34m\u001b[0m\u001b[0m\n\u001b[0m\u001b[1;32m     14\u001b[0m \u001b[0;34m\u001b[0m\u001b[0m\n\u001b[1;32m     15\u001b[0m \u001b[0;31m# Display to screen\u001b[0m\u001b[0;34m\u001b[0m\u001b[0;34m\u001b[0m\u001b[0m\n",
      "\u001b[0;32m~/anaconda3/envs/PythonData/lib/python3.6/site-packages/matplotlib/pyplot.py\u001b[0m in \u001b[0;36msavefig\u001b[0;34m(*args, **kwargs)\u001b[0m\n\u001b[1;32m    699\u001b[0m \u001b[0;32mdef\u001b[0m \u001b[0msavefig\u001b[0m\u001b[0;34m(\u001b[0m\u001b[0;34m*\u001b[0m\u001b[0margs\u001b[0m\u001b[0;34m,\u001b[0m \u001b[0;34m**\u001b[0m\u001b[0mkwargs\u001b[0m\u001b[0;34m)\u001b[0m\u001b[0;34m:\u001b[0m\u001b[0;34m\u001b[0m\u001b[0m\n\u001b[1;32m    700\u001b[0m     \u001b[0mfig\u001b[0m \u001b[0;34m=\u001b[0m \u001b[0mgcf\u001b[0m\u001b[0;34m(\u001b[0m\u001b[0;34m)\u001b[0m\u001b[0;34m\u001b[0m\u001b[0m\n\u001b[0;32m--> 701\u001b[0;31m     \u001b[0mres\u001b[0m \u001b[0;34m=\u001b[0m \u001b[0mfig\u001b[0m\u001b[0;34m.\u001b[0m\u001b[0msavefig\u001b[0m\u001b[0;34m(\u001b[0m\u001b[0;34m*\u001b[0m\u001b[0margs\u001b[0m\u001b[0;34m,\u001b[0m \u001b[0;34m**\u001b[0m\u001b[0mkwargs\u001b[0m\u001b[0;34m)\u001b[0m\u001b[0;34m\u001b[0m\u001b[0m\n\u001b[0m\u001b[1;32m    702\u001b[0m     \u001b[0mfig\u001b[0m\u001b[0;34m.\u001b[0m\u001b[0mcanvas\u001b[0m\u001b[0;34m.\u001b[0m\u001b[0mdraw_idle\u001b[0m\u001b[0;34m(\u001b[0m\u001b[0;34m)\u001b[0m   \u001b[0;31m# need this if 'transparent=True' to reset colors\u001b[0m\u001b[0;34m\u001b[0m\u001b[0m\n\u001b[1;32m    703\u001b[0m     \u001b[0;32mreturn\u001b[0m \u001b[0mres\u001b[0m\u001b[0;34m\u001b[0m\u001b[0m\n",
      "\u001b[0;32m~/anaconda3/envs/PythonData/lib/python3.6/site-packages/matplotlib/figure.py\u001b[0m in \u001b[0;36msavefig\u001b[0;34m(self, fname, **kwargs)\u001b[0m\n\u001b[1;32m   1832\u001b[0m             \u001b[0mself\u001b[0m\u001b[0;34m.\u001b[0m\u001b[0mset_frameon\u001b[0m\u001b[0;34m(\u001b[0m\u001b[0mframeon\u001b[0m\u001b[0;34m)\u001b[0m\u001b[0;34m\u001b[0m\u001b[0m\n\u001b[1;32m   1833\u001b[0m \u001b[0;34m\u001b[0m\u001b[0m\n\u001b[0;32m-> 1834\u001b[0;31m         \u001b[0mself\u001b[0m\u001b[0;34m.\u001b[0m\u001b[0mcanvas\u001b[0m\u001b[0;34m.\u001b[0m\u001b[0mprint_figure\u001b[0m\u001b[0;34m(\u001b[0m\u001b[0mfname\u001b[0m\u001b[0;34m,\u001b[0m \u001b[0;34m**\u001b[0m\u001b[0mkwargs\u001b[0m\u001b[0;34m)\u001b[0m\u001b[0;34m\u001b[0m\u001b[0m\n\u001b[0m\u001b[1;32m   1835\u001b[0m \u001b[0;34m\u001b[0m\u001b[0m\n\u001b[1;32m   1836\u001b[0m         \u001b[0;32mif\u001b[0m \u001b[0mframeon\u001b[0m\u001b[0;34m:\u001b[0m\u001b[0;34m\u001b[0m\u001b[0m\n",
      "\u001b[0;32m~/anaconda3/envs/PythonData/lib/python3.6/site-packages/matplotlib/backend_bases.py\u001b[0m in \u001b[0;36mprint_figure\u001b[0;34m(self, filename, dpi, facecolor, edgecolor, orientation, format, **kwargs)\u001b[0m\n\u001b[1;32m   2265\u001b[0m                 \u001b[0morientation\u001b[0m\u001b[0;34m=\u001b[0m\u001b[0morientation\u001b[0m\u001b[0;34m,\u001b[0m\u001b[0;34m\u001b[0m\u001b[0m\n\u001b[1;32m   2266\u001b[0m                 \u001b[0mbbox_inches_restore\u001b[0m\u001b[0;34m=\u001b[0m\u001b[0m_bbox_inches_restore\u001b[0m\u001b[0;34m,\u001b[0m\u001b[0;34m\u001b[0m\u001b[0m\n\u001b[0;32m-> 2267\u001b[0;31m                 **kwargs)\n\u001b[0m\u001b[1;32m   2268\u001b[0m         \u001b[0;32mfinally\u001b[0m\u001b[0;34m:\u001b[0m\u001b[0;34m\u001b[0m\u001b[0m\n\u001b[1;32m   2269\u001b[0m             \u001b[0;32mif\u001b[0m \u001b[0mbbox_inches\u001b[0m \u001b[0;32mand\u001b[0m \u001b[0mrestore_bbox\u001b[0m\u001b[0;34m:\u001b[0m\u001b[0;34m\u001b[0m\u001b[0m\n",
      "\u001b[0;32m~/anaconda3/envs/PythonData/lib/python3.6/site-packages/matplotlib/backends/backend_agg.py\u001b[0m in \u001b[0;36mprint_png\u001b[0;34m(self, filename_or_obj, *args, **kwargs)\u001b[0m\n\u001b[1;32m    524\u001b[0m         \u001b[0;32mtry\u001b[0m\u001b[0;34m:\u001b[0m\u001b[0;34m\u001b[0m\u001b[0m\n\u001b[1;32m    525\u001b[0m             _png.write_png(renderer._renderer, filename_or_obj,\n\u001b[0;32m--> 526\u001b[0;31m                            self.figure.dpi, metadata=metadata)\n\u001b[0m\u001b[1;32m    527\u001b[0m         \u001b[0;32mfinally\u001b[0m\u001b[0;34m:\u001b[0m\u001b[0;34m\u001b[0m\u001b[0m\n\u001b[1;32m    528\u001b[0m             \u001b[0;32mif\u001b[0m \u001b[0mclose\u001b[0m\u001b[0;34m:\u001b[0m\u001b[0;34m\u001b[0m\u001b[0m\n",
      "\u001b[0;31mTypeError\u001b[0m: Object does not appear to be a 8-bit string path or a Python file-like object"
     ]
    },
    {
     "data": {
      "image/png": "[encoded data removed]",
      "text/plain": [
       "<matplotlib.figure.Figure at 0x114456cf8>"
      ]
     },
     "metadata": {},
     "output_type": "display_data"
    }
   ],
   "source": [
    "# Create a scatter plot for each data type\n",
    "wind_lat = plt.scatter(weather_data[\"lat\"], weather_data[\"wind\"],marker=\"o\")\n",
    "\n",
    "# Incorporate the other graph properties: title and axis labels\n",
    "plt.title(\"Wind Speed by Latitude Around the World\")\n",
    "plt.ylabel(\"Wind\")\n",
    "plt.xlabel(\"Latitude\")\n",
    "\n",
    "# Turn on the grid\n",
    "plt.grid(True)\n",
    "\n",
    "# Save the figure\n",
    "plt.savefig(wind_lat, format=\"png\")\n",
    "\n",
    "# Display to screen "
   ]
  },
  {
   "cell_type": "code",
   "execution_count": null,
   "metadata": {},
   "outputs": [],
   "source": []
  },
  {
   "cell_type": "code",
   "execution_count": null,
   "metadata": {},
   "outputs": [],
   "source": []
  }
 ],
 "metadata": {
  "kernelspec": {
   "display_name": "Python 3",
   "language": "python",
   "name": "python3"
  },
  "language_info": {
   "codemirror_mode": {
    "name": "ipython",
    "version": 3
   },
   "file_extension": ".py",
   "mimetype": "text/x-python",
   "name": "python",
   "nbconvert_exporter": "python",
   "pygments_lexer": "ipython3",
   "version": "3.6.4"
  }
 },
 "nbformat": 4,
 "nbformat_minor": 2
}
