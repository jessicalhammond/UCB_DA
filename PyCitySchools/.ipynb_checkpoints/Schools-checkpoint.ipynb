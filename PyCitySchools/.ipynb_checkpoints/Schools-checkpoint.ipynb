{
 "cells": [
  {
   "cell_type": "code",
   "execution_count": null,
   "metadata": {},
   "outputs": [],
   "source": [
    "# Create a table that highlights the top 5 performing schools based on Overall Passing Rate. Include:\n",
    "# School Name\n",
    "# School Type\n",
    "# Total Students\n",
    "# Total School Budget\n",
    "# Per Student Budget\n",
    "# Average Math Score\n",
    "# Average Reading Score\n",
    "# % Passing Math\n",
    "# % Passing Reading\n",
    "# Overall Passing Rate (Average of the above two)\n",
    "# Top Performing Schools (By Passing Rate)\n",
    "\n",
    "# Create a table that highlights the bottom 5 performing schools based on Overall Passing Rate. Include all of the same metrics as above.\n",
    "# Math Scores by Grade\n",
    "\n",
    "# Create a table that lists the average Math Score for students of each grade level (9th, 10th, 11th, 12th) at each school.\n",
    "# Reading Scores by Grade\n",
    "\n",
    "# Create a table that lists the average Reading Score for students of each grade level (9th, 10th, 11th, 12th) at each school.\n",
    "# Scores by School Spending\n",
    "\n",
    "# Create a table that breaks down school performances based on average Spending Ranges (Per Student). Use 4 reasonable bins to group school spending. Include in the table each of the following:\n",
    "# Average Math Score\n",
    "# Average Reading Score\n",
    "# % Passing Math\n",
    "# % Passing Reading\n",
    "# Overall Passing Rate (Average of the above two)\n",
    "# Scores by School Size\n",
    "\n",
    "# Repeat the above breakdown, but this time group schools based on a reasonable approximation of school size (Small, Medium, Large).\n",
    "# Scores by School Type\n",
    "\n",
    "# Repeat the above breakdown, but this time group schools based on school type (Charter vs. District).\n",
    "# As final considerations:\n",
    "\n",
    "# Your script must work for both data-sets given.\n",
    "# You must use the Pandas Library and the Jupyter Notebook.\n",
    "# You must submit a link to your Jupyter Notebook with the viewable Data Frames.\n",
    "# You must include an exported markdown version of your Notebook called  README.md in your GitHub repository.\n",
    "# You must include a written description of three observable trends based on the data.\n",
    "# See Example Solution for a reference on the expected format."
   ]
  },
  {
   "cell_type": "code",
   "execution_count": null,
   "metadata": {},
   "outputs": [],
   "source": [
    "import pandas as pd\n",
    "import os \n",
    "import numpy as np\n",
    "\n",
    "filesch = os.path.join('raw_data', 'schools_complete.csv')\n",
    "filestu = os.path.join('raw_data', 'students_complete.csv')\n",
    "\n",
    "schoolsdf = pd.read_csv(filesch)\n",
    "studentsdf = pd.read_csv(filestu)\n",
    "\n",
    "\n"
   ]
  },
  {
   "cell_type": "code",
   "execution_count": null,
   "metadata": {},
   "outputs": [],
   "source": [
    "schoolsdf.head()"
   ]
  },
  {
   "cell_type": "code",
   "execution_count": null,
   "metadata": {},
   "outputs": [],
   "source": [
    "studentsdf.columns"
   ]
  },
  {
   "cell_type": "code",
   "execution_count": null,
   "metadata": {},
   "outputs": [],
   "source": [
    "# renmae column title to match\n",
    "schoolsdf.rename(inplace=True,columns={\"name\":\"school\"})\n",
    "schoolsdf.columns"
   ]
  },
  {
   "cell_type": "code",
   "execution_count": null,
   "metadata": {},
   "outputs": [],
   "source": [
    "# Merge two dataframes using an inner join -- inner join will drop rows where there is not an exact match\n",
    "merge = pd.merge(studentsdf, schoolsdf, on=\"school\", how=\"inner\")\n",
    "merge"
   ]
  },
  {
   "cell_type": "code",
   "execution_count": null,
   "metadata": {},
   "outputs": [],
   "source": [
    "# Create a high level snapshot (in table form) of the district's key metrics, including:\n",
    "# Total Schools, Total Students, Total Budget\n",
    "\n",
    "totalschools = schoolsdf[\"school\"].count()\n",
    "totalstudents = merge[\"Student ID\"].count()\n",
    "totalbudget = schoolsdf['budget'].sum()\n",
    "\n",
    "# Average Math Score, Average Reading Score\n",
    "sumsch1 = studentsdf.loc[:,('school', 'reading_score', 'math_score',)]\n",
    "rmean = round(merge['reading_score'].mean(), 2)\n",
    "mmean = round(merge['math_score'].mean(), 2)\n",
    "\n",
    "# % Passing Math, % Passing Reading, Overall Passing Rate (Average of the above two)\n",
    "#get table of only students who passed math\n",
    "pass_m = merge.loc[merge['math_score'] >= 70,]\n",
    "pass_m2 = pass_m['math_score'].count()\n",
    "#get percentage\n",
    "percentm = \"{0:.0f}%\".format((pass_m2/totalstudents)*100)\n",
    "# print(\"% Passing Math:\", percentm)\n",
    "\n",
    "#get table of only students who passed reading\n",
    "pass_r = merge.loc[merge['reading_score'] >= 70,]\n",
    "#count the number of students in that table\n",
    "pass_r2 = pass_r['reading_score'].count()\n",
    "#get percentage\n",
    "percentr = \"{0:.0f}%\".format((pass_r2/totalstudents)*100)\n",
    "# print(\"% Passing Reading:\", percentr)\n",
    "\n",
    "# overall = \"{0:.0f}%\".format((percentr + percentm)/2)\n",
    "Dsum = pd.DataFrame({'Total Schools' : [totalschools], 'Total Students' : [totalstudents], \n",
    "                     'Total Budget': [totalbudget], 'Average Reading Score': [rmean], \n",
    "                     'Average Math Score': [mmean], '% Passing Reading': [percentr], \n",
    "                     '% Passing Math': [percentm], }, dtype=object)\n",
    "Dsum.head()"
   ]
  },
  {
   "cell_type": "code",
   "execution_count": null,
   "metadata": {},
   "outputs": [],
   "source": [
    "# you must still get the overall passing percent"
   ]
  },
  {
   "cell_type": "code",
   "execution_count": null,
   "metadata": {},
   "outputs": [],
   "source": []
  },
  {
   "cell_type": "code",
   "execution_count": null,
   "metadata": {},
   "outputs": [],
   "source": [
    "# Create an overview table that summarizes key metrics about each school, including:\n",
    "# School Name\n",
    "# School Type\n",
    "# Total Students\n",
    "# Total School Budget\n",
    "# Per Student Budget\n",
    "# Average Math Score\n",
    "# Average Reading Score\n",
    "# % Passing Math\n",
    "# % Passing Reading\n",
    "# Overall Passing Rate (Average of the above two)\n",
    "# Top Performing Schools (By Passing Rate)\n",
    "\n",
    "\n",
    "# state_duration = grouped_usa_df[\"duration (seconds)\"].sum() --> copy the sum into a new series and then add it to the df\n",
    "grouped = merge.groupby(['school'])\n",
    "\n",
    "merge2 = merge[(merge[\"reading_score\"] >= 70)]\n",
    "\n",
    "# over70r = merge.loc(['reading_score'] >= 70)  \n",
    "grouped2 = merge.groupby(['school'])\n",
    "\n",
    "schoolsummary = grouped['school']\n",
    "totstu_byschool = grouped['name'].count()\n",
    "rmean_summary = grouped['reading_score'].mean()\n",
    "mmean_summary = grouped['math_score'].mean()\n",
    "# rpasssum = grouped(['math_score'] >= 60)\n",
    "perpass_sumr = \"{0:.0f}%\".format((pass_r2/totalstudents)*100)\n",
    "\n",
    "# print(schoolsummary, totstu_byschool, rmean_summary, mmean_summary)\n",
    "\n",
    "passing = merge['reading_score'] >= 60\n",
    "passingsch = pd.DataFrame[\"\"]\n",
    "# dashbestC = merge['Dash Cl'].max()\n",
    "# totbitV = round(merge['Bit Vol'].sum()/1000000, 2)\n",
    "# totdashV = round(merge['Dash Vol'].sum()/1000000, 2)\n",
    "\n",
    "\n",
    "# summary = pd.DataFrame({\"School\":[school], \"Average Reading Score\":[rmean_summary], \n",
    "#                        \"Average Math Score\": [mmean_summary], \"\"})\n",
    "\n",
    "# summary.head()\n",
    "#in order to do that make everything a numerica value"
   ]
  },
  {
   "cell_type": "code",
   "execution_count": null,
   "metadata": {},
   "outputs": [],
   "source": [
    "# School Summary\n",
    "\n"
   ]
  },
  {
   "cell_type": "code",
   "execution_count": null,
   "metadata": {},
   "outputs": [],
   "source": []
  }
 ],
 "metadata": {
  "kernelspec": {
   "display_name": "Python 3",
   "language": "python",
   "name": "python3"
  },
  "language_info": {
   "codemirror_mode": {
    "name": "ipython",
    "version": 3
   },
   "file_extension": ".py",
   "mimetype": "text/x-python",
   "name": "python",
   "nbconvert_exporter": "python",
   "pygments_lexer": "ipython3",
   "version": "3.6.4"
  }
 },
 "nbformat": 4,
 "nbformat_minor": 2
}
