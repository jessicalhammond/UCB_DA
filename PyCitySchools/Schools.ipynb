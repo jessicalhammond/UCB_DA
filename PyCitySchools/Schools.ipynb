{
 "cells": [
  {
   "cell_type": "code",
   "execution_count": 2,
   "metadata": {},
   "outputs": [],
   "source": [
    "# Create a table that highlights the top 5 performing schools based on Overall Passing Rate. Include:\n",
    "# School Name\n",
    "# School Type\n",
    "# Total Students\n",
    "# Total School Budget\n",
    "# Per Student Budget\n",
    "# Average Math Score\n",
    "# Average Reading Score\n",
    "# % Passing Math\n",
    "# % Passing Reading\n",
    "# Overall Passing Rate (Average of the above two)\n",
    "# Top Performing Schools (By Passing Rate)\n",
    "\n",
    "# Create a table that highlights the bottom 5 performing schools based on Overall Passing Rate. Include all of the same metrics as above.\n",
    "# Math Scores by Grade\n",
    "\n",
    "# Create a table that lists the average Math Score for students of each grade level (9th, 10th, 11th, 12th) at each school.\n",
    "# Reading Scores by Grade\n",
    "\n",
    "# Create a table that lists the average Reading Score for students of each grade level (9th, 10th, 11th, 12th) at each school.\n",
    "# Scores by School Spending\n",
    "\n",
    "# Create a table that breaks down school performances based on average Spending Ranges (Per Student). Use 4 reasonable bins to group school spending. Include in the table each of the following:\n",
    "# Average Math Score\n",
    "# Average Reading Score\n",
    "# % Passing Math\n",
    "# % Passing Reading\n",
    "# Overall Passing Rate (Average of the above two)\n",
    "# Scores by School Size\n",
    "\n",
    "# Repeat the above breakdown, but this time group schools based on a reasonable approximation of school size (Small, Medium, Large).\n",
    "# Scores by School Type\n",
    "\n",
    "# Repeat the above breakdown, but this time group schools based on school type (Charter vs. District).\n",
    "# As final considerations:\n",
    "\n",
    "# Your script must work for both data-sets given.\n",
    "# You must use the Pandas Library and the Jupyter Notebook.\n",
    "# You must submit a link to your Jupyter Notebook with the viewable Data Frames.\n",
    "# You must include an exported markdown version of your Notebook called  README.md in your GitHub repository.\n",
    "# You must include a written description of three observable trends based on the data.\n",
    "# See Example Solution for a reference on the expected format."
   ]
  },
  {
   "cell_type": "code",
   "execution_count": 3,
   "metadata": {},
   "outputs": [],
   "source": [
    "import pandas as pd\n",
    "import os \n",
    "import numpy as np\n",
    "\n",
    "filesch = os.path.join('raw_data', 'schools_complete.csv')\n",
    "filestu = os.path.join('raw_data', 'students_complete.csv')\n",
    "\n",
    "schoolsdf = pd.read_csv(filesch)\n",
    "studentsdf = pd.read_csv(filestu)\n"
   ]
  },
  {
   "cell_type": "code",
   "execution_count": 4,
   "metadata": {},
   "outputs": [
    {
     "data": {
      "text/plain": [
       "Index(['School ID', 'name', 'type', 'size', 'budget'], dtype='object')"
      ]
     },
     "execution_count": 4,
     "metadata": {},
     "output_type": "execute_result"
    }
   ],
   "source": [
    "schoolsdf.columns"
   ]
  },
  {
   "cell_type": "code",
   "execution_count": 5,
   "metadata": {},
   "outputs": [
    {
     "data": {
      "text/plain": [
       "Index(['Student ID', 'name', 'gender', 'grade', 'school', 'reading_score',\n",
       "       'math_score'],\n",
       "      dtype='object')"
      ]
     },
     "execution_count": 5,
     "metadata": {},
     "output_type": "execute_result"
    }
   ],
   "source": [
    "studentsdf.columns"
   ]
  },
  {
   "cell_type": "code",
   "execution_count": 40,
   "metadata": {},
   "outputs": [
    {
     "data": {
      "text/html": [
       "<div>\n",
       "<style scoped>\n",
       "    .dataframe tbody tr th:only-of-type {\n",
       "        vertical-align: middle;\n",
       "    }\n",
       "\n",
       "    .dataframe tbody tr th {\n",
       "        vertical-align: top;\n",
       "    }\n",
       "\n",
       "    .dataframe thead th {\n",
       "        text-align: right;\n",
       "    }\n",
       "</style>\n",
       "<table border=\"1\" class=\"dataframe\">\n",
       "  <thead>\n",
       "    <tr style=\"text-align: right;\">\n",
       "      <th></th>\n",
       "      <th>% Passing Math</th>\n",
       "      <th>% Passing Reading</th>\n",
       "      <th>Average Math Score</th>\n",
       "      <th>Average Reading Score</th>\n",
       "      <th>Total Budget</th>\n",
       "      <th>Total Schools</th>\n",
       "      <th>Total Students</th>\n",
       "    </tr>\n",
       "  </thead>\n",
       "  <tbody>\n",
       "    <tr>\n",
       "      <th>0</th>\n",
       "      <td>75%</td>\n",
       "      <td>86%</td>\n",
       "      <td>78.9854</td>\n",
       "      <td>81.8778</td>\n",
       "      <td>24649428</td>\n",
       "      <td>15</td>\n",
       "      <td>39170</td>\n",
       "    </tr>\n",
       "  </tbody>\n",
       "</table>\n",
       "</div>"
      ],
      "text/plain": [
       "  % Passing Math % Passing Reading Average Math Score Average Reading Score  \\\n",
       "0            75%               86%            78.9854               81.8778   \n",
       "\n",
       "  Total Budget Total Schools Total Students  \n",
       "0     24649428            15          39170  "
      ]
     },
     "execution_count": 40,
     "metadata": {},
     "output_type": "execute_result"
    }
   ],
   "source": [
    "# Create a high level snapshot (in table form) of the district's key metrics, including:\n",
    "# Total Schools, Total Students, Total Budget\n",
    "\n",
    "totalschools = schoolsdf[\"School ID\"].count()\n",
    "totalstudents = studentsdf[\"Student ID\"].count()\n",
    "totalbudget = schoolsdf['budget'].sum()\n",
    "\n",
    "# print(\"Total Schools:\", totalschools)\n",
    "# print(\"Total Students:\", totalstudents)\n",
    "# print(\"Total Budget:\", '${:,.2f}'.format(totalbudget))\n",
    "# Average Math Score, Average Reading Score\n",
    "sumsch1 = studentsdf.loc[:,('school', 'reading_score', 'math_score',)]\n",
    "rmean = sumsch1['reading_score'].mean()\n",
    "mmean = sumsch1['math_score'].mean()\n",
    "# print(\"Average Math Score:\", '{:.2f}'.format(mmean))\n",
    "# print(\"Average Reading Score:\", '{:.2f}'.format(rmean))\n",
    "\n",
    "# % Passing Math, % Passing Reading, Overall Passing Rate (Average of the above two)\n",
    "#get table of only students who passed math\n",
    "pass_m = sumsch1.loc[sumsch1['math_score'] >= 70,]\n",
    "#count the number of students in that table\n",
    "pass_m2 = pass_m['math_score'].count()\n",
    "#get percentage\n",
    "# percentm = \"{0:.0f}%\".format((pass_m2/totalstudents)*100)\n",
    "# print(\"% Passing Math:\", percentm)\n",
    "\n",
    "#get table of only students who passed reading\n",
    "pass_r = sumsch1.loc[sumsch1['reading_score'] >= 70,]\n",
    "#count the number of students in that table\n",
    "pass_r2 = pass_r['reading_score'].count()\n",
    "#get percentage\n",
    "percentr = \"{0:.0f}%\".format((pass_r2/totalstudents)*100)\n",
    "# print(\"% Passing Reading:\", percentr)\n",
    "\n",
    "# overall = \"{0:.0f}%\".format((percentr + percentm)/2)\n",
    "Dsum = pd.DataFrame({'Total Schools' : [totalschools], 'Total Students' : [totalstudents], \n",
    "                     'Total Budget': [totalbudget], 'Average Reading Score': [rmean], \n",
    "                     'Average Math Score': [mmean], '% Passing Reading': [percentr], \n",
    "                     '% Passing Math': [percentm], }, dtype=object)\n",
    "Dsum.head()"
   ]
  },
  {
   "cell_type": "code",
   "execution_count": null,
   "metadata": {},
   "outputs": [],
   "source": [
    "# you must still get the overall passing percent"
   ]
  },
  {
   "cell_type": "code",
   "execution_count": null,
   "metadata": {},
   "outputs": [],
   "source": [
    "# Create an overview table that summarizes key metrics about each school, including:\n",
    "# School Name\n",
    "# School Type\n",
    "# Total Students\n",
    "# Total School Budget\n",
    "# Per Student Budget\n",
    "# Average Math Score\n",
    "# Average Reading Score\n",
    "# % Passing Math\n",
    "# % Passing Reading\n",
    "# Overall Passing Rate (Average of the above two)\n",
    "# Top Performing Schools (By Passing Rate)\n",
    "\n",
    "\n",
    "to group data by type :: by school (get aggregate)\n",
    "        # Using GroupBy in order to separate the data into fields according to \"state\" values\n",
    "grouped_usa_df = usa_ufo_df.groupby(['state'])\n",
    "print(grouped_usa_df)\n",
    "grouped_usa_df.count().head(10)\n",
    "\n",
    "in order to do that make everything a numerica value"
   ]
  },
  {
   "cell_type": "code",
   "execution_count": null,
   "metadata": {},
   "outputs": [],
   "source": [
    "# School Summary\n"
   ]
  }
 ],
 "metadata": {
  "kernelspec": {
   "display_name": "Python 3",
   "language": "python",
   "name": "python3"
  },
  "language_info": {
   "codemirror_mode": {
    "name": "ipython",
    "version": 3
   },
   "file_extension": ".py",
   "mimetype": "text/x-python",
   "name": "python",
   "nbconvert_exporter": "python",
   "pygments_lexer": "ipython3",
   "version": "3.6.4"
  }
 },
 "nbformat": 4,
 "nbformat_minor": 2
}
