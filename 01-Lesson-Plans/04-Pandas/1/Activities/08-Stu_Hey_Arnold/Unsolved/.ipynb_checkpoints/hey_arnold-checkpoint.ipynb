{
 "cells": [
  {
   "cell_type": "code",
   "execution_count": null,
   "metadata": {},
   "outputs": [],
   "source": [
    "# import dependencies\n",
    "import pandas as pd"
   ]
  },
  {
   "cell_type": "code",
   "execution_count": null,
   "metadata": {},
   "outputs": [],
   "source": [
    "# Create a data frame with given columns and value\n",
    "hey_arnold = pd.DataFrame(\n",
    "    {\"Character_in_show\": [\"Arnold\", \"Gerald\", \"Helga\", \"Phoebe\", \"Harold\", \"Eugene\"],\n",
    "     \"color_of_hair\": [\"blonde\", \"black\",\"blonde\", \"black\", \"unknown\", \"red\"],\n",
    "     \"Height\": [\"average\", \"tallish\", \"tallish\", \"short\", \"tall\", \"short\"],\n",
    "     \"Football_Shaped_Head\": [True, False, False, False, False, False]\n",
    "    })\n",
    "\n",
    "hey_arnold"
   ]
  },
  {
   "cell_type": "code",
   "execution_count": null,
   "metadata": {},
   "outputs": [],
   "source": [
    "# Rename columns to clean up the look\n",
    "hey_arnold.columns = ['Character', 'Hair Color', 'Height','Football Head']\n",
    "hey_arnold"
   ]
  },
  {
   "cell_type": "code",
   "execution_count": null,
   "metadata": {},
   "outputs": [],
   "source": [
    "# Organize columns into a more logical order\n",
    "# cols = list(hey_arnold.columns.values) #Make a list of all of the columns in the df\n",
    "# cols.pop(cols.index('Character')) #Remove b from list\n",
    "# cols.pop(cols.index('Hair Color')) #Remove x from list\n",
    "# cols.pop(cols.index('Height')) #Remove x from list\n",
    "# cols.pop(cols.index('Football Head')) #Remove x from list\n",
    "\n",
    "# hey_arnold = hey_arnold[cols+['Character','Football Head', 'Hair Color','Height']]\n",
    "\n",
    "hey_arnold = hey_arnold[['Character', 'Football Head', 'Hair Color', 'Height']]\n",
    "hey_arnold"
   ]
  },
  {
   "cell_type": "code",
   "execution_count": null,
   "metadata": {},
   "outputs": [],
   "source": [
    "# Export new data\n",
    "! touch hey_arnold2.csv"
   ]
  },
  {
   "cell_type": "code",
   "execution_count": null,
   "metadata": {},
   "outputs": [],
   "source": [
    "! ls"
   ]
  },
  {
   "cell_type": "code",
   "execution_count": null,
   "metadata": {},
   "outputs": [],
   "source": [
    "hey_arnold.to_csv(\"hey_arnold2.csv\", encoding = \"UTF-8-sig\")"
   ]
  },
  {
   "cell_type": "code",
   "execution_count": null,
   "metadata": {},
   "outputs": [],
   "source": [
    "! less hey_arnold2.csv"
   ]
  },
  {
   "cell_type": "code",
   "execution_count": null,
   "metadata": {},
   "outputs": [],
   "source": [
    "! ls"
   ]
  },
  {
   "cell_type": "code",
   "execution_count": null,
   "metadata": {},
   "outputs": [],
   "source": []
  }
 ],
 "metadata": {
  "kernel_info": {
   "name": "python3"
  },
  "kernelspec": {
   "display_name": "Python 3",
   "language": "python",
   "name": "python3"
  },
  "language_info": {
   "codemirror_mode": {
    "name": "ipython",
    "version": 3
   },
   "file_extension": ".py",
   "mimetype": "text/x-python",
   "name": "python",
   "nbconvert_exporter": "python",
   "pygments_lexer": "ipython3",
   "version": "3.6.4"
  },
  "nteract": {
   "version": "0.2.0"
  }
 },
 "nbformat": 4,
 "nbformat_minor": 2
}
