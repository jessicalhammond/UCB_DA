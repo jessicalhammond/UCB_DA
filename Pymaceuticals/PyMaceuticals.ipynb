{
 "cells": [
  {
   "cell_type": "code",
   "execution_count": 33,
   "metadata": {},
   "outputs": [
    {
     "data": {
      "text/plain": [
       "<bound method DataFrame.iteritems of      Mouse ID  Timepoint  Tumor Volume (mm3)  Metastatic Sites       Drug\n",
       "0        b128          0           45.000000                 0  Capomulin\n",
       "1        b128          5           45.651331                 0  Capomulin\n",
       "2        b128         10           43.270852                 0  Capomulin\n",
       "3        b128         15           43.784893                 0  Capomulin\n",
       "4        b128         20           42.731552                 0  Capomulin\n",
       "5        b128         25           43.262145                 1  Capomulin\n",
       "6        b128         30           40.605335                 1  Capomulin\n",
       "7        b128         35           37.967644                 1  Capomulin\n",
       "8        b128         40           38.379726                 2  Capomulin\n",
       "9        b128         45           38.982878                 2  Capomulin\n",
       "10       f932          0           45.000000                 0   Ketapril\n",
       "11       g107          0           45.000000                 0   Ketapril\n",
       "12       g107          5           48.791665                 0   Ketapril\n",
       "13       g107         10           53.435987                 0   Ketapril\n",
       "14       g107         15           58.135545                 0   Ketapril\n",
       "15       g107         20           62.706031                 0   Ketapril\n",
       "16       g107         25           64.663626                 0   Ketapril\n",
       "17       g107         30           69.160520                 0   Ketapril\n",
       "18       g107         35           71.905117                 0   Ketapril\n",
       "19       a457          0           45.000000                 0   Ketapril\n",
       "20       a457          5           47.462891                 0   Ketapril\n",
       "21       a457         10           49.783419                 0   Ketapril\n",
       "22       c819          0           45.000000                 0   Ketapril\n",
       "23       c819          5           45.769249                 1   Ketapril\n",
       "24       c819         10           46.658395                 1   Ketapril\n",
       "25       c819         15           48.370999                 1   Ketapril\n",
       "26       c819         20           49.762415                 1   Ketapril\n",
       "27       c819         25           51.828357                 1   Ketapril\n",
       "28       c819         30           56.098998                 1   Ketapril\n",
       "29       c819         35           57.729535                 1   Ketapril\n",
       "...       ...        ...                 ...               ...        ...\n",
       "1876     i557         25           44.596219                 0  Capomulin\n",
       "1877     i557         30           45.261384                 0  Capomulin\n",
       "1878     i557         35           45.941949                 0  Capomulin\n",
       "1879     i557         40           46.821070                 1  Capomulin\n",
       "1880     i557         45           47.685963                 1  Capomulin\n",
       "1881     m957          0           45.000000                 0  Capomulin\n",
       "1882     m957          5           45.622381                 1  Capomulin\n",
       "1883     m957         10           46.414518                 1  Capomulin\n",
       "1884     m957         15           39.804453                 1  Capomulin\n",
       "1885     m957         20           38.909349                 1  Capomulin\n",
       "1886     m957         25           37.695432                 1  Capomulin\n",
       "1887     m957         30           38.212479                 1  Capomulin\n",
       "1888     m957         35           32.562839                 1  Capomulin\n",
       "1889     m957         40           32.947615                 1  Capomulin\n",
       "1890     m957         45           33.329098                 1  Capomulin\n",
       "1891     f966          0           45.000000                 0  Capomulin\n",
       "1892     f966          5           38.796474                 0  Capomulin\n",
       "1893     f966         10           35.624403                 0  Capomulin\n",
       "1894     f966         15           32.623003                 0  Capomulin\n",
       "1895     f966         20           30.485985                 0  Capomulin\n",
       "1896     m601          0           45.000000                 0  Capomulin\n",
       "1897     m601          5           41.408591                 1  Capomulin\n",
       "1898     m601         10           36.825367                 1  Capomulin\n",
       "1899     m601         15           35.464612                 1  Capomulin\n",
       "1900     m601         20           34.255732                 1  Capomulin\n",
       "1901     m601         25           33.118756                 1  Capomulin\n",
       "1902     m601         30           31.758275                 1  Capomulin\n",
       "1903     m601         35           30.834357                 1  Capomulin\n",
       "1904     m601         40           31.378045                 1  Capomulin\n",
       "1905     m601         45           28.430964                 1  Capomulin\n",
       "\n",
       "[1906 rows x 5 columns]>"
      ]
     },
     "execution_count": 33,
     "metadata": {},
     "output_type": "execute_result"
    }
   ],
   "source": [
    "# import dependencies\n",
    "import pandas as pd\n",
    "import os\n",
    "import matplotlib.pyplot as plt\n",
    "import numpy as np\n",
    "\n",
    "trialfile = os.path.join('raw_data', 'clinicaltrial_data.csv')\n",
    "mousefile = os.path.join('raw_data', 'mouse_drug_data.csv')\n",
    "trial = pd.read_csv(trialfile)\n",
    "mouse = pd.read_csv(mousefile)\n",
    "\n",
    "merged = trial.merge(mouse, on='Mouse ID', how='inner')\n",
    "merged.items"
   ]
  },
  {
   "cell_type": "code",
   "execution_count": null,
   "metadata": {},
   "outputs": [],
   "source": [
    "# Creating a scatter plot that shows how the tumor volume changes over time for each treatment.\n",
    "# * Creating a scatter plot that shows how the number of [metastatic](https://en.wikipedia.org/wiki/Metastasis) (cancer spreading) sites changes over time for each treatment.\n",
    "# * Creating a scatter plot that shows the number of mice still alive through the course of treatment (Survival Rate)\n",
    "# * Creating a bar graph that compares the total % tumor volume change for each drug across the full 45 days.\n"
   ]
  },
  {
   "cell_type": "code",
   "execution_count": 27,
   "metadata": {},
   "outputs": [
    {
     "ename": "ValueError",
     "evalue": "invalid literal for int() with base 10: 'Metastatic Sites'",
     "output_type": "error",
     "traceback": [
      "\u001b[0;31m---------------------------------------------------------------------------\u001b[0m",
      "\u001b[0;31mValueError\u001b[0m                                Traceback (most recent call last)",
      "\u001b[0;32m<ipython-input-27-4c6e3c52a657>\u001b[0m in \u001b[0;36m<module>\u001b[0;34m()\u001b[0m\n\u001b[1;32m      2\u001b[0m \u001b[0mdrug_id_group\u001b[0m \u001b[0;34m=\u001b[0m \u001b[0mpd\u001b[0m\u001b[0;34m.\u001b[0m\u001b[0mDataFrame\u001b[0m\u001b[0;34m(\u001b[0m\u001b[0mmerged\u001b[0m\u001b[0;34m.\u001b[0m\u001b[0mgroupby\u001b[0m\u001b[0;34m(\u001b[0m\u001b[0;34m\"Drug\"\u001b[0m\u001b[0;34m)\u001b[0m\u001b[0;34m.\u001b[0m\u001b[0mcount\u001b[0m\u001b[0;34m(\u001b[0m\u001b[0;34m)\u001b[0m\u001b[0;34m)\u001b[0m\u001b[0;34m\u001b[0m\u001b[0m\n\u001b[1;32m      3\u001b[0m \u001b[0;34m\u001b[0m\u001b[0m\n\u001b[0;32m----> 4\u001b[0;31m \u001b[0mmetastisized\u001b[0m \u001b[0;34m=\u001b[0m \u001b[0mmerged\u001b[0m\u001b[0;34m.\u001b[0m\u001b[0mloc\u001b[0m\u001b[0;34m[\u001b[0m\u001b[0mint\u001b[0m\u001b[0;34m(\u001b[0m\u001b[0;34m'Metastatic Sites'\u001b[0m\u001b[0;34m)\u001b[0m \u001b[0;34m>=\u001b[0m\u001b[0;36m1\u001b[0m\u001b[0;34m]\u001b[0m\u001b[0;34m\u001b[0m\u001b[0m\n\u001b[0m",
      "\u001b[0;31mValueError\u001b[0m: invalid literal for int() with base 10: 'Metastatic Sites'"
     ]
    }
   ],
   "source": [
    "mouse_id_group = pd.DataFrame(merged.groupby(\"Mouse ID\").count())\n",
    "drug_id_group = pd.DataFrame(merged.groupby(\"Drug\").count())\n",
    "\n",
    "metastisized = merged.loc[int('Metastatic Sites') >=1]\n"
   ]
  },
  {
   "cell_type": "code",
   "execution_count": null,
   "metadata": {},
   "outputs": [],
   "source": []
  }
 ],
 "metadata": {
  "kernelspec": {
   "display_name": "Python 3",
   "language": "python",
   "name": "python3"
  },
  "language_info": {
   "codemirror_mode": {
    "name": "ipython",
    "version": 3
   },
   "file_extension": ".py",
   "mimetype": "text/x-python",
   "name": "python",
   "nbconvert_exporter": "python",
   "pygments_lexer": "ipython3",
   "version": "3.6.4"
  }
 },
 "nbformat": 4,
 "nbformat_minor": 2
}
